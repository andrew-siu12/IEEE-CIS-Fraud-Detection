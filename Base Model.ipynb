{
 "cells": [
  {
   "cell_type": "markdown",
   "metadata": {
    "toc": true
   },
   "source": [
    "<h1>Table of Contents<span class=\"tocSkip\"></span></h1>\n",
    "<div class=\"toc\"><ul class=\"toc-item\"></ul></div>"
   ]
  },
  {
   "cell_type": "code",
   "execution_count": 6,
   "metadata": {
    "ExecuteTime": {
     "end_time": "2019-08-17T22:04:43.756627Z",
     "start_time": "2019-08-17T22:04:43.751640Z"
    }
   },
   "outputs": [],
   "source": [
    "import os\n",
    "import gc\n",
    "import numpy as np\n",
    "import pandas as pd\n",
    "from src.util import *\n",
    "from sklearn.preprocessing import LabelEncoder\n",
    "import lightgbm as lgb\n",
    "from time import time\n",
    "import datetime\n",
    "from sklearn.model_selection import TimeSeriesSplit"
   ]
  },
  {
   "cell_type": "code",
   "execution_count": 2,
   "metadata": {
    "ExecuteTime": {
     "end_time": "2019-08-17T21:55:42.024241Z",
     "start_time": "2019-08-17T21:54:41.953043Z"
    }
   },
   "outputs": [
    {
     "name": "stdout",
     "output_type": "stream",
     "text": [
      "Wall time: 1min\n"
     ]
    }
   ],
   "source": [
    "%%time\n",
    "train_identity = pd.read_csv(\"data/train_identity.csv\", )\n",
    "train_transaction = pd.read_csv(\"data/train_transaction.csv\", )\n",
    "test_identity = pd.read_csv(\"data/test_identity.csv\", )\n",
    "test_transaction = pd.read_csv(\"data/test_transaction.csv\",)"
   ]
  },
  {
   "cell_type": "code",
   "execution_count": 3,
   "metadata": {
    "ExecuteTime": {
     "end_time": "2019-08-17T22:01:27.216734Z",
     "start_time": "2019-08-17T21:55:42.026235Z"
    }
   },
   "outputs": [
    {
     "name": "stdout",
     "output_type": "stream",
     "text": [
      "Mem. usage decreased to 650.48 Mb (66.8% reduction)\n",
      "Mem. usage decreased to 565.37 Mb (66.3% reduction)\n",
      "Merged training set shape: (590540, 434)\n",
      "Merged testing set shape: (506691, 433)\n"
     ]
    }
   ],
   "source": [
    "train_merge = train_transaction.merge(train_identity, how='left')\n",
    "test_merge = test_transaction.merge(test_identity, how='left')\n",
    "del train_transaction, train_identity, test_transaction, test_identity\n",
    "gc.collect()\n",
    "\n",
    "train_merge = reduce_mem_usage(train_merge)\n",
    "test_merge = reduce_mem_usage(test_merge)\n",
    "\n",
    "print(f\"Merged training set shape: {train_merge.shape}\")\n",
    "print(f\"Merged testing set shape: {test_merge.shape}\")"
   ]
  },
  {
   "cell_type": "code",
   "execution_count": 10,
   "metadata": {
    "ExecuteTime": {
     "end_time": "2019-08-17T22:16:23.728567Z",
     "start_time": "2019-08-17T22:14:41.686326Z"
    }
   },
   "outputs": [],
   "source": [
    "for col in train_merge.columns:\n",
    "    if train_merge[col].dtype == 'object':\n",
    "        le = LabelEncoder()\n",
    "        le.fit(list(train_merge[col].values) + list(test_merge[col].values))\n",
    "        train_merge[col] = le.transform(list(train_merge[col].values))\n",
    "        test_merge[col] = le.transform(list(test_merge[col].values))"
   ]
  },
  {
   "cell_type": "code",
   "execution_count": 11,
   "metadata": {
    "ExecuteTime": {
     "end_time": "2019-08-17T22:16:32.494475Z",
     "start_time": "2019-08-17T22:16:27.246158Z"
    }
   },
   "outputs": [],
   "source": [
    "X = train_merge.sort_values('TransactionDT').drop(['isFraud', 'TransactionDT', 'TransactionID'], axis=1)\n",
    "y = train_merge.sort_values('TransactionDT')['isFraud']\n",
    "test = test_merge.sort_values('TransactionDT').drop(['TransactionDT', 'TransactionID'], axis=1)"
   ]
  },
  {
   "cell_type": "code",
   "execution_count": 12,
   "metadata": {
    "ExecuteTime": {
     "end_time": "2019-08-17T22:16:35.011990Z",
     "start_time": "2019-08-17T22:16:35.006006Z"
    }
   },
   "outputs": [
    {
     "data": {
      "text/plain": [
       "{'boosting_type': 'gbdt',\n",
       " 'class_weight': None,\n",
       " 'colsample_bytree': 1.0,\n",
       " 'importance_type': 'split',\n",
       " 'learning_rate': 0.1,\n",
       " 'max_depth': -1,\n",
       " 'min_child_samples': 20,\n",
       " 'min_child_weight': 0.001,\n",
       " 'min_split_gain': 0.0,\n",
       " 'n_estimators': 100,\n",
       " 'n_jobs': -1,\n",
       " 'num_leaves': 31,\n",
       " 'objective': None,\n",
       " 'random_state': 50,\n",
       " 'reg_alpha': 0.0,\n",
       " 'reg_lambda': 0.0,\n",
       " 'silent': True,\n",
       " 'subsample': 1.0,\n",
       " 'subsample_for_bin': 200000,\n",
       " 'subsample_freq': 0,\n",
       " 'metric': 'auc'}"
      ]
     },
     "execution_count": 12,
     "metadata": {},
     "output_type": "execute_result"
    }
   ],
   "source": [
    "model = lgb.LGBMClassifier(random_state=50)\n",
    "hyperparameters = model.get_params()\n",
    "hyperparameters['metric'] = 'auc'\n",
    "hyperparameters"
   ]
  },
  {
   "cell_type": "code",
   "execution_count": 13,
   "metadata": {
    "ExecuteTime": {
     "end_time": "2019-08-17T22:18:07.488235Z",
     "start_time": "2019-08-17T22:16:37.187753Z"
    }
   },
   "outputs": [
    {
     "name": "stdout",
     "output_type": "stream",
     "text": [
      "Training on fold 1\n",
      "Training until validation scores don't improve for 500 rounds.\n",
      "Did not meet early stopping. Best iteration is:\n",
      "[100]\ttraining's auc: 0.940339\tvalid_1's auc: 0.869141\n",
      "Fold 1 finished in 0:00:07.927110\n",
      "Training on fold 2\n",
      "Training until validation scores don't improve for 500 rounds.\n",
      "Did not meet early stopping. Best iteration is:\n",
      "[100]\ttraining's auc: 0.924098\tvalid_1's auc: 0.878102\n",
      "Fold 2 finished in 0:00:13.473009\n",
      "Training on fold 3\n",
      "Training until validation scores don't improve for 500 rounds.\n",
      "Did not meet early stopping. Best iteration is:\n",
      "[100]\ttraining's auc: 0.917614\tvalid_1's auc: 0.866076\n",
      "Fold 3 finished in 0:00:18.270074\n",
      "Training on fold 4\n",
      "Training until validation scores don't improve for 500 rounds.\n",
      "Did not meet early stopping. Best iteration is:\n",
      "[100]\ttraining's auc: 0.911015\tvalid_1's auc: 0.882175\n",
      "Fold 4 finished in 0:00:23.000760\n",
      "Training on fold 5\n",
      "Training until validation scores don't improve for 500 rounds.\n",
      "Did not meet early stopping. Best iteration is:\n",
      "[100]\ttraining's auc: 0.907384\tvalid_1's auc: 0.869147\n",
      "Fold 5 finished in 0:00:27.610578\n",
      "------------------------------\n",
      "Train finished\n",
      "Mean AUC: 0.8729281635238781\n",
      "------------------------------\n"
     ]
    }
   ],
   "source": [
    "folds = TimeSeriesSplit(n_splits=5)\n",
    "\n",
    "aucs = list()\n",
    "feature_importances = pd.DataFrame()\n",
    "feature_importances['feature'] = X.columns\n",
    "\n",
    "train_start_time = time()\n",
    "for fold, (trn_idx, test_idx) in enumerate(folds.split(X, y)):\n",
    "    start_time = time()\n",
    "    print(f\"Training on fold {fold + 1}\")\n",
    "    \n",
    "    trn_data = lgb.Dataset(X.iloc[trn_idx], label=y.iloc[trn_idx])\n",
    "    val_data = lgb.Dataset(X.iloc[test_idx], label=y.iloc[test_idx])\n",
    "    clf = lgb.train(hyperparameters, trn_data, 10000, valid_sets=[trn_data, val_data],\n",
    "                    verbose_eval=1000, early_stopping_rounds=500)\n",
    "    \n",
    "    feature_importances[f'fold_{fold + 1}'] = clf.feature_importance()\n",
    "    aucs.append(clf.best_score['valid_1']['auc'])\n",
    "    \n",
    "    fold_end_time = datetime.timedelta(seconds=time() - start_time)\n",
    "    \n",
    "    print(f'Fold {fold + 1} finished in {str(fold_end_time)}')\n",
    "print('-' * 30)\n",
    "print('Train finished')\n",
    "print(f'Mean AUC: {np.mean(aucs)}')\n",
    "print('-'*30)"
   ]
  },
  {
   "cell_type": "code",
   "execution_count": 15,
   "metadata": {
    "ExecuteTime": {
     "end_time": "2019-08-17T22:18:29.958784Z",
     "start_time": "2019-08-17T22:18:28.953703Z"
    }
   },
   "outputs": [
    {
     "data": {
      "image/png": "[encoded data removed]",
      "text/plain": [
       "<Figure size 1152x1152 with 1 Axes>"
      ]
     },
     "metadata": {
      "needs_background": "light"
     },
     "output_type": "display_data"
    }
   ],
   "source": [
    "feature_importances['average'] = feature_importances[[f'fold_{fold + 1}' for fold in range(folds.n_splits)]].mean(axis=1)\n",
    "feature_importances.to_csv('feature_importances.csv')\n",
    "\n",
    "plt.figure(figsize=(16, 16))\n",
    "sns.barplot(data=feature_importances.sort_values(by='average', ascending=False).head(50), x='average', y='feature');\n",
    "plt.title(f'50 TOP feature importance over {folds.n_splits} folds average');"
   ]
  },
  {
   "cell_type": "code",
   "execution_count": 22,
   "metadata": {
    "ExecuteTime": {
     "end_time": "2019-08-17T22:22:20.972350Z",
     "start_time": "2019-08-17T22:22:20.964372Z"
    }
   },
   "outputs": [
    {
     "data": {
      "text/plain": [
       "['card2',\n",
       " 'C13',\n",
       " 'card1',\n",
       " 'TransactionAmt',\n",
       " 'C1',\n",
       " 'addr1',\n",
       " 'D15',\n",
       " 'D2',\n",
       " 'P_emaildomain',\n",
       " 'C14',\n",
       " 'card5',\n",
       " 'C11',\n",
       " 'V45',\n",
       " 'D8',\n",
       " 'card3',\n",
       " 'V313',\n",
       " 'D1',\n",
       " 'id_02',\n",
       " 'R_emaildomain',\n",
       " 'card6',\n",
       " 'id_20',\n",
       " 'D4',\n",
       " 'D10',\n",
       " 'DeviceInfo',\n",
       " 'C2',\n",
       " 'id_01',\n",
       " 'V310',\n",
       " 'V62',\n",
       " 'C12',\n",
       " 'dist1',\n",
       " 'V87',\n",
       " 'M4',\n",
       " 'V283',\n",
       " 'V281',\n",
       " 'V294',\n",
       " 'V258',\n",
       " 'C8',\n",
       " 'V53',\n",
       " 'id_09',\n",
       " 'V314',\n",
       " 'V38',\n",
       " 'id_30',\n",
       " 'V315',\n",
       " 'C6',\n",
       " 'V317',\n",
       " 'id_33',\n",
       " 'V312',\n",
       " 'V189',\n",
       " 'id_19',\n",
       " 'C4']"
      ]
     },
     "execution_count": 22,
     "metadata": {},
     "output_type": "execute_result"
    }
   ],
   "source": [
    "list(feature_importances.sort_values(by='average', ascending=False)['feature'].values[:50])"
   ]
  },
  {
   "cell_type": "code",
   "execution_count": null,
   "metadata": {},
   "outputs": [],
   "source": []
  }
 ],
 "metadata": {
  "kernelspec": {
   "display_name": "Python 3",
   "language": "python",
   "name": "python3"
  },
  "language_info": {
   "codemirror_mode": {
    "name": "ipython",
    "version": 3
   },
   "file_extension": ".py",
   "mimetype": "text/x-python",
   "name": "python",
   "nbconvert_exporter": "python",
   "pygments_lexer": "ipython3",
   "version": "3.7.3"
  },
  "toc": {
   "base_numbering": 1,
   "nav_menu": {},
   "number_sections": true,
   "sideBar": true,
   "skip_h1_title": false,
   "title_cell": "Table of Contents",
   "title_sidebar": "Contents",
   "toc_cell": true,
   "toc_position": {},
   "toc_section_display": true,
   "toc_window_display": false
  },
  "varInspector": {
   "cols": {
    "lenName": 16,
    "lenType": 16,
    "lenVar": 40
   },
   "kernels_config": {
    "python": {
     "delete_cmd_postfix": "",
     "delete_cmd_prefix": "del ",
     "library": "var_list.py",
     "varRefreshCmd": "print(var_dic_list())"
    },
    "r": {
     "delete_cmd_postfix": ") ",
     "delete_cmd_prefix": "rm(",
     "library": "var_list.r",
     "varRefreshCmd": "cat(var_dic_list()) "
    }
   },
   "types_to_exclude": [
    "module",
    "function",
    "builtin_function_or_method",
    "instance",
    "_Feature"
   ],
   "window_display": false
  }
 },
 "nbformat": 4,
 "nbformat_minor": 2
}
