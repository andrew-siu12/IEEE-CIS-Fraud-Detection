{
 "cells": [
  {
   "cell_type": "markdown",
   "metadata": {
    "toc": true
   },
   "source": [
    "<h1>Table of Contents<span class=\"tocSkip\"></span></h1>\n",
    "<div class=\"toc\"><ul class=\"toc-item\"></ul></div>"
   ]
  },
  {
   "cell_type": "code",
   "execution_count": null,
   "metadata": {
    "ExecuteTime": {
     "end_time": "2019-08-25T20:41:54.684087Z",
     "start_time": "2019-08-25T20:41:53.022556Z"
    }
   },
   "outputs": [],
   "source": [
    "import pandas as pd\n",
    "import numpy as np\n",
    "import lightgbm as lgb\n",
    "from sklearn.model_selection import KFold, TimeSeriesSplit\n",
    "from hyperopt import tpe, Trials, STATUS_OK, hp, fmin, space_eval\n",
    "from sklearn.metrics import roc_auc_score\n",
    "import warnings\n",
    "warnings.filterwarnings(\"ignore\")\n",
    "from time import time\n",
    "import datetime\n",
    "import csv\n",
    "import gc"
   ]
  },
  {
   "cell_type": "code",
   "execution_count": null,
   "metadata": {
    "ExecuteTime": {
     "end_time": "2019-08-25T20:41:55.274455Z",
     "start_time": "2019-08-25T20:41:55.170754Z"
    }
   },
   "outputs": [],
   "source": [
    "sample_submission = pd.read_csv(\"../preprocessed_data/sample_submission.csv\")"
   ]
  },
  {
   "cell_type": "code",
   "execution_count": null,
   "metadata": {
    "ExecuteTime": {
     "end_time": "2019-08-25T20:42:46.954711Z",
     "start_time": "2019-08-25T20:41:58.243284Z"
    }
   },
   "outputs": [],
   "source": [
    "with open('../preprocessed_data/data_type_key_test.json') as data_file:    \n",
    "    data_types_train = json.load(data_file)\n",
    "\n",
    "with open('../preprocessed_data/data_type_key_test.json') as data_file:\n",
    "    data_types_test = json.load(data_file)\n",
    "    \n",
    "X_train = pd.read_csv(\"../preprocessed_data/X_train.csv\", dtype=data_types_train)\n",
    "y_train = pd.read_csv(\"../preprocessed_data/y_train.csv\", header=None)\n",
    "X_test = pd.read_csv(\"../preprocessed_data/X_test.csv\", dtype=data_types_test)"
   ]
  },
  {
   "cell_type": "code",
   "execution_count": null,
   "metadata": {
    "ExecuteTime": {
     "end_time": "2019-08-24T09:14:14.701076Z",
     "start_time": "2019-08-24T09:14:14.695219Z"
    }
   },
   "outputs": [],
   "source": [
    "# CATEGORY_COLUMNS = ['ProductCD', 'card4', 'card6', 'P_emaildomain', 'R_emaildomain', 'M1',\n",
    "#                     'M2', 'M3', 'M4', 'M5', 'M6', 'M7', 'M8', 'M9', 'id_12', 'id_15',\n",
    "#                     'id_16', 'id_28', 'id_29', 'id_30', 'id_31', 'id_33', 'id_34',\n",
    "#                     'id_35', 'id_36', 'id_37', 'id_38', 'DeviceType', 'DeviceInfo',\n",
    "#                     'DeviceInfo_c', 'id_30_c', 'P_emaildomain_bin', 'P_emaildomain_suffix',\n",
    "#                     'R_emaildomain_bin', 'R_emaildomain_suffix']"
   ]
  },
  {
   "cell_type": "code",
   "execution_count": null,
   "metadata": {
    "ExecuteTime": {
     "end_time": "2019-08-24T09:14:14.732348Z",
     "start_time": "2019-08-24T09:14:14.708884Z"
    }
   },
   "outputs": [],
   "source": [
    "space = {\n",
    "    'boosting_type': hp.choice('boosting_type',\n",
    "                               [{'boosting_type': 'gbdt'},\n",
    "                                {'boosting_type': 'goss'}]),\n",
    "    'num_leaves': hp.quniform('num_leaves', 100, 300, 10),\n",
    "    'max_depth': hp.quniform('max_depth', 7, 20, 1),\n",
    "    'learning_rate': hp.loguniform('learning_rate', np.log(0.01), np.log(0.3)),\n",
    "    'min_child_samples': hp.quniform('min_child_samples', 100, 250, 10),\n",
    "    'reg_alpha': hp.uniform('reg_alpha', 0.01, 0.4),\n",
    "    'reg_lambda': hp.uniform('reg_lambda', 0.01, 0.4),\n",
    "    'colsample_bytree': hp.uniform('colsample_by_tree', 0.4, 0.9),\n",
    "    'bagging_fraction': hp.uniform('bagging_fraction', 0.2, 0.7),\n",
    "    'feature_fraction': hp.uniform('feature_fraction', 0.2, 0.7),\n",
    "    'objective': 'binary',\n",
    "    'metric': 'auc',\n",
    "    'tree_learner':'serial',\n",
    "    \"bagging_seed\": 11,\n",
    "}"
   ]
  },
  {
   "cell_type": "code",
   "execution_count": null,
   "metadata": {
    "ExecuteTime": {
     "end_time": "2019-08-24T09:16:14.726748Z",
     "start_time": "2019-08-24T09:16:14.716989Z"
    }
   },
   "outputs": [],
   "source": [
    "def objective(hyperparameters):\n",
    "    \n",
    "    \n",
    "    # Using early stopping to find number of trees trained\n",
    "    if 'n_estimators' in hyperparameters:\n",
    "        del hyperparameters['n_estimators']\n",
    "    \n",
    "    # Extract the boosting type and subsample to top levl keys\n",
    "    hyperparameters['boosting_type'] = hyperparameters['boosting_type']['boosting_type']\n",
    "    \n",
    "    # Make sure parameters that need to be integers are integers\n",
    "    for parameter_name in ['num_leaves', 'min_child_samples', 'max_depth']:\n",
    "        hyperparameters[parameter_name] = int(hyperparameters[parameter_name])\n",
    "    \n",
    "    training_start = time()\n",
    "    \n",
    "    print(\"New RUN\")\n",
    "    FOLDS = 5\n",
    "    \n",
    "    kfold = KFold(n_splits=FOLDS, shuffle=True, random_state=42)\n",
    "    mean_score = 0\n",
    "    \n",
    "    for fold, (tr_idx, val_idx) in enumerate(kfold.split(X_train, y_train)):\n",
    "        start_time = time()\n",
    "        \n",
    "        trn_x, trn_y = X_train.iloc[tr_idx, :], y_train.iloc[tr_idx, :]\n",
    "        val_x, val_y = X_train.iloc[val_idx, :], y_train.iloc[val_idx, :]\n",
    "        \n",
    "        trn_data = lgb.Dataset(trn_x, label=trn_y)\n",
    "        val_data = lgb.Dataset(val_x, label=val_y)\n",
    "        \n",
    "        clf = lgb.train(hyperparameters, trn_data, 10000, valid_sets=[trn_data, val_data],\n",
    "                        verbose_eval=1000, early_stopping_rounds=500)\n",
    "        \n",
    "        y_pred_valid = clf.predict(val_x)\n",
    "        val_roc_auc = roc_auc_score(val_y, y_pred_valid)\n",
    "        mean_score += val_roc_auc / FOLDS\n",
    "        \n",
    "        fold_finish_time = datetime.timedelta(seconds=time() - start_time)\n",
    "        print(f\"Fold {fold + 1} auc_score: {val_roc_auc} and finished in {fold_finish_time}\")\n",
    "    \n",
    "    total_time = time() - training_start\n",
    "    print(f\"Total tuning time: {round(total_time / 60, 2)}\")\n",
    "    gc.collect()\n",
    "    \n",
    "    print(f\"Mean AUC score = {mean_score}\")\n",
    "    del trn_x, trn_y, val_x, val_y\n",
    "    \n",
    "    # write to the csv file ('a' means append)\n",
    "    of_connection = open(OUT_FILE, 'a')\n",
    "    writer = csv.writer(of_connection)\n",
    "    writer.writerow([mean_score, hyperparameters, total_time])\n",
    "    of_connection.close()\n",
    "    \n",
    "    return {'loss': -mean_score , 'hyperparameters': hyperparameters,\n",
    "            'train_time': total_time, 'status': STATUS_OK}\n",
    "        \n",
    "        \n",
    "        "
   ]
  },
  {
   "cell_type": "code",
   "execution_count": null,
   "metadata": {
    "ExecuteTime": {
     "end_time": "2019-08-24T09:16:16.841235Z",
     "start_time": "2019-08-24T09:16:16.837330Z"
    }
   },
   "outputs": [],
   "source": [
    "OUT_FILE = '../models/tuning3.csv'\n",
    "of_connection = open(OUT_FILE, 'w')\n",
    "writer = csv.writer(of_connection)\n",
    "\n",
    "\n",
    "# Write column names\n",
    "headers = ['loss', 'hyperparameters', 'runtime']\n",
    "writer.writerow(headers)\n",
    "of_connection.close()"
   ]
  },
  {
   "cell_type": "code",
   "execution_count": null,
   "metadata": {
    "ExecuteTime": {
     "end_time": "2019-08-24T09:16:21.822825Z",
     "start_time": "2019-08-24T09:16:21.818890Z"
    }
   },
   "outputs": [],
   "source": [
    "MAX_EVALS = 10"
   ]
  },
  {
   "cell_type": "code",
   "execution_count": null,
   "metadata": {
    "ExecuteTime": {
     "end_time": "2019-08-25T16:25:49.411726Z",
     "start_time": "2019-08-24T09:16:25.042243Z"
    }
   },
   "outputs": [],
   "source": [
    "best = fmin(fn=objective, space=space, algo=tpe.suggest, trials=Trials(), max_evals=MAX_EVALS)"
   ]
  },
  {
   "cell_type": "code",
   "execution_count": null,
   "metadata": {
    "ExecuteTime": {
     "end_time": "2019-08-25T16:36:22.963230Z",
     "start_time": "2019-08-25T16:36:22.952470Z"
    }
   },
   "outputs": [],
   "source": [
    "best_params = space_eval(space, best)"
   ]
  },
  {
   "cell_type": "code",
   "execution_count": null,
   "metadata": {
    "ExecuteTime": {
     "end_time": "2019-08-25T16:37:26.678477Z",
     "start_time": "2019-08-25T16:37:26.673599Z"
    }
   },
   "outputs": [],
   "source": [
    "# Extract the boosting type and subsample to top levl keys\n",
    "#subsample = best_params['boosting_type']['subsample']\n",
    "best_params['boosting_type'] = best_params['boosting_type']['boosting_type']\n"
   ]
  },
  {
   "cell_type": "code",
   "execution_count": null,
   "metadata": {
    "ExecuteTime": {
     "end_time": "2019-08-25T20:42:48.558588Z",
     "start_time": "2019-08-25T20:42:48.555564Z"
    }
   },
   "outputs": [],
   "source": [
    "# best_params = {'bagging_fraction': 0.5863656208034684,\n",
    "#  'bagging_seed': 11,\n",
    "#  'boosting_type': 'gbdt',\n",
    "#  'colsample_bytree': 0.7170559402589022,\n",
    "#  'feature_fraction': 0.6178360434276413,\n",
    "#  'learning_rate': 0.015895040411752413,\n",
    "#  'max_depth': 14.0,\n",
    "#  'metric': 'auc',\n",
    "#  'min_child_samples': 210.0,\n",
    "#  'min_child_weight': 0.0050402501022000605,\n",
    "#  'num_leaves': 120.0,\n",
    "#  'objective': 'binary',\n",
    "#  'reg_alpha': 0.15209816138269058,\n",
    "#  'reg_lambda': 0.1552396519561102,\n",
    "#  'tree_learner': 'serial'}"
   ]
  },
  {
   "cell_type": "code",
   "execution_count": null,
   "metadata": {},
   "outputs": [],
   "source": []
  }
 ],
 "metadata": {
  "kernelspec": {
   "display_name": "Python 3",
   "language": "python",
   "name": "python3"
  },
  "language_info": {
   "codemirror_mode": {
    "name": "ipython",
    "version": 3
   },
   "file_extension": ".py",
   "mimetype": "text/x-python",
   "name": "python",
   "nbconvert_exporter": "python",
   "pygments_lexer": "ipython3",
   "version": "3.7.3"
  },
  "toc": {
   "base_numbering": 1,
   "nav_menu": {},
   "number_sections": true,
   "sideBar": true,
   "skip_h1_title": false,
   "title_cell": "Table of Contents",
   "title_sidebar": "Contents",
   "toc_cell": true,
   "toc_position": {},
   "toc_section_display": true,
   "toc_window_display": false
  },
  "varInspector": {
   "cols": {
    "lenName": 16,
    "lenType": 16,
    "lenVar": 40
   },
   "kernels_config": {
    "python": {
     "delete_cmd_postfix": "",
     "delete_cmd_prefix": "del ",
     "library": "var_list.py",
     "varRefreshCmd": "print(var_dic_list())"
    },
    "r": {
     "delete_cmd_postfix": ") ",
     "delete_cmd_prefix": "rm(",
     "library": "var_list.r",
     "varRefreshCmd": "cat(var_dic_list()) "
    }
   },
   "types_to_exclude": [
    "module",
    "function",
    "builtin_function_or_method",
    "instance",
    "_Feature"
   ],
   "window_display": false
  }
 },
 "nbformat": 4,
 "nbformat_minor": 2
}
